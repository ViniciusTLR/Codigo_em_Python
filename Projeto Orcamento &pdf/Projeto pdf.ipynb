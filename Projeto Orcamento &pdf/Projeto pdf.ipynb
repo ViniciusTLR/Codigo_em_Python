{
 "cells": [
  {
   "cell_type": "markdown",
   "id": "d0767c06",
   "metadata": {},
   "source": [
    "# Projeto"
   ]
  },
  {
   "cell_type": "markdown",
   "id": "775a6abe",
   "metadata": {},
   "source": [
    "## Emitir PDF automático com orçamento para empresa"
   ]
  },
  {
   "cell_type": "markdown",
   "id": "b00d9fd9",
   "metadata": {},
   "source": [
    "### Calculando o valor total estimado"
   ]
  },
  {
   "cell_type": "code",
   "execution_count": 2,
   "id": "928a027f",
   "metadata": {},
   "outputs": [
    {
     "name": "stdout",
     "output_type": "stream",
     "text": [
      "Digite a descrição do projeto: Desenvolvimento de um site\n",
      "Digite o total de horas estimadas: 72\n",
      "Digite o valor da hora trabalhada: 135\n",
      "Digite o prazo estimado para entrega: 3 meses\n"
     ]
    }
   ],
   "source": [
    "projeto = input(\"Digite a descrição do projeto: \")\n",
    "horas_estimadas = input(\"Digite o total de horas estimadas: \")\n",
    "valor_hora = input(\"Digite o valor da hora trabalhada: \")\n",
    "prazo_estimado = input(\"Digite o prazo estimado para entrega: \")"
   ]
  },
  {
   "cell_type": "code",
   "execution_count": 3,
   "id": "ca713bb0",
   "metadata": {},
   "outputs": [
    {
     "name": "stdout",
     "output_type": "stream",
     "text": [
      "9720\n"
     ]
    }
   ],
   "source": [
    "valor_total_estimado = int(horas_estimadas) * int(valor_hora)\n",
    "print(valor_total_estimado)"
   ]
  },
  {
   "cell_type": "markdown",
   "id": "7ae91ca3",
   "metadata": {},
   "source": [
    "### Bibilioteca fpdf"
   ]
  },
  {
   "cell_type": "code",
   "execution_count": 4,
   "id": "6338a43c",
   "metadata": {},
   "outputs": [
    {
     "name": "stdout",
     "output_type": "stream",
     "text": [
      "Requirement already satisfied: fpdf in d:\\cursopython\\anaconda3\\lib\\site-packages (1.7.2)\n"
     ]
    }
   ],
   "source": [
    "# instalando a biblioteca\n",
    "!pip install fpdf"
   ]
  },
  {
   "cell_type": "code",
   "execution_count": 5,
   "id": "1425e824",
   "metadata": {},
   "outputs": [],
   "source": [
    "# importando a biblioteca\n",
    "from fpdf import FPDF"
   ]
  },
  {
   "cell_type": "markdown",
   "id": "d2e9d827",
   "metadata": {},
   "source": [
    "### Criando um arquivo pdf"
   ]
  },
  {
   "cell_type": "code",
   "execution_count": 6,
   "id": "3d466742",
   "metadata": {},
   "outputs": [],
   "source": [
    "pdf = FPDF()\n",
    "pdf.add_page()\n",
    "pdf.set_font(\"Arial\")"
   ]
  },
  {
   "cell_type": "markdown",
   "id": "6919b057",
   "metadata": {},
   "source": [
    "### Inserindo dados no pdf"
   ]
  },
  {
   "cell_type": "code",
   "execution_count": 7,
   "id": "c5ee97b9",
   "metadata": {},
   "outputs": [
    {
     "ename": "FileNotFoundError",
     "evalue": "[Errno 2] No such file or directory: 'template.png'",
     "output_type": "error",
     "traceback": [
      "\u001b[1;31m---------------------------------------------------------------------------\u001b[0m",
      "\u001b[1;31mFileNotFoundError\u001b[0m                         Traceback (most recent call last)",
      "Cell \u001b[1;32mIn[7], line 2\u001b[0m\n\u001b[0;32m      1\u001b[0m \u001b[38;5;66;03m# Utilizando um template\u001b[39;00m\n\u001b[1;32m----> 2\u001b[0m pdf\u001b[38;5;241m.\u001b[39mimage(\u001b[38;5;124m\"\u001b[39m\u001b[38;5;124mtemplate.png\u001b[39m\u001b[38;5;124m\"\u001b[39m, x \u001b[38;5;241m=\u001b[39m \u001b[38;5;241m0\u001b[39m, y \u001b[38;5;241m=\u001b[39m \u001b[38;5;241m0\u001b[39m)\n\u001b[0;32m      4\u001b[0m \u001b[38;5;66;03m# Inserindo os dados do projeto\u001b[39;00m\n\u001b[0;32m      5\u001b[0m pdf\u001b[38;5;241m.\u001b[39mtext(\u001b[38;5;241m115\u001b[39m, \u001b[38;5;241m145\u001b[39m, projeto)\n",
      "File \u001b[1;32mD:\\cursoPython\\anaconda3\\Lib\\site-packages\\fpdf\\fpdf.py:150\u001b[0m, in \u001b[0;36mFPDF.check_page.<locals>.wrapper\u001b[1;34m(self, *args, **kwargs)\u001b[0m\n\u001b[0;32m    148\u001b[0m     \u001b[38;5;28mself\u001b[39m\u001b[38;5;241m.\u001b[39merror(\u001b[38;5;124m\"\u001b[39m\u001b[38;5;124mNo page open, you need to call add_page() first\u001b[39m\u001b[38;5;124m\"\u001b[39m)\n\u001b[0;32m    149\u001b[0m \u001b[38;5;28;01melse\u001b[39;00m:\n\u001b[1;32m--> 150\u001b[0m     \u001b[38;5;28;01mreturn\u001b[39;00m fn(\u001b[38;5;28mself\u001b[39m, \u001b[38;5;241m*\u001b[39margs, \u001b[38;5;241m*\u001b[39m\u001b[38;5;241m*\u001b[39mkwargs)\n",
      "File \u001b[1;32mD:\\cursoPython\\anaconda3\\Lib\\site-packages\\fpdf\\fpdf.py:971\u001b[0m, in \u001b[0;36mFPDF.image\u001b[1;34m(self, name, x, y, w, h, type, link)\u001b[0m\n\u001b[0;32m    969\u001b[0m     info\u001b[38;5;241m=\u001b[39m\u001b[38;5;28mself\u001b[39m\u001b[38;5;241m.\u001b[39m_parsejpg(name)\n\u001b[0;32m    970\u001b[0m \u001b[38;5;28;01melif\u001b[39;00m(\u001b[38;5;28mtype\u001b[39m\u001b[38;5;241m==\u001b[39m\u001b[38;5;124m'\u001b[39m\u001b[38;5;124mpng\u001b[39m\u001b[38;5;124m'\u001b[39m):\n\u001b[1;32m--> 971\u001b[0m     info\u001b[38;5;241m=\u001b[39m\u001b[38;5;28mself\u001b[39m\u001b[38;5;241m.\u001b[39m_parsepng(name)\n\u001b[0;32m    972\u001b[0m \u001b[38;5;28;01melse\u001b[39;00m:\n\u001b[0;32m    973\u001b[0m     \u001b[38;5;66;03m#Allow for additional formats\u001b[39;00m\n\u001b[0;32m    974\u001b[0m     \u001b[38;5;66;03m#maybe the image is not showing the correct extension,\u001b[39;00m\n\u001b[0;32m    975\u001b[0m     \u001b[38;5;66;03m#but the header is OK,\u001b[39;00m\n\u001b[0;32m    976\u001b[0m     succeed_parsing \u001b[38;5;241m=\u001b[39m \u001b[38;5;28;01mFalse\u001b[39;00m\n",
      "File \u001b[1;32mD:\\cursoPython\\anaconda3\\Lib\\site-packages\\fpdf\\fpdf.py:1772\u001b[0m, in \u001b[0;36mFPDF._parsepng\u001b[1;34m(self, name)\u001b[0m\n\u001b[0;32m   1770\u001b[0m        f \u001b[38;5;241m=\u001b[39m urlopen(name)\n\u001b[0;32m   1771\u001b[0m \u001b[38;5;28;01melse\u001b[39;00m:\n\u001b[1;32m-> 1772\u001b[0m     f\u001b[38;5;241m=\u001b[39m\u001b[38;5;28mopen\u001b[39m(name,\u001b[38;5;124m'\u001b[39m\u001b[38;5;124mrb\u001b[39m\u001b[38;5;124m'\u001b[39m)\n\u001b[0;32m   1773\u001b[0m \u001b[38;5;28;01mif\u001b[39;00m(\u001b[38;5;129;01mnot\u001b[39;00m f):\n\u001b[0;32m   1774\u001b[0m     \u001b[38;5;28mself\u001b[39m\u001b[38;5;241m.\u001b[39merror(\u001b[38;5;124m\"\u001b[39m\u001b[38;5;124mCan\u001b[39m\u001b[38;5;124m'\u001b[39m\u001b[38;5;124mt open image file: \u001b[39m\u001b[38;5;124m\"\u001b[39m\u001b[38;5;241m+\u001b[39mname)\n",
      "\u001b[1;31mFileNotFoundError\u001b[0m: [Errno 2] No such file or directory: 'template.png'"
     ]
    }
   ],
   "source": [
    "# Utilizando um template\n",
    "pdf.image(\"template.png\", x = 0, y = 0)\n",
    "\n",
    "# Inserindo os dados do projeto\n",
    "pdf.text(115, 145, projeto)\n",
    "pdf.text(115, 160, horas_estimadas)\n",
    "pdf.text(115, 175, valor_hora)\n",
    "pdf.text(115, 190, prazo_estimado)\n",
    "pdf.text(115, 205, str(valor_total_estimado))"
   ]
  },
  {
   "cell_type": "markdown",
   "id": "d65af29f",
   "metadata": {},
   "source": [
    "### Salvando o arquivo"
   ]
  },
  {
   "cell_type": "code",
   "execution_count": 24,
   "id": "eef93f99",
   "metadata": {},
   "outputs": [
    {
     "name": "stdout",
     "output_type": "stream",
     "text": [
      "Orçamento gerado com sucesso!\n"
     ]
    }
   ],
   "source": [
    "pdf.output(\"Orçamento.pdf\")\n",
    "print(\"Orçamento gerado com sucesso!\")"
   ]
  },
  {
   "cell_type": "code",
   "execution_count": null,
   "id": "e78f3145",
   "metadata": {},
   "outputs": [],
   "source": []
  }
 ],
 "metadata": {
  "kernelspec": {
   "display_name": "Python 3 (ipykernel)",
   "language": "python",
   "name": "python3"
  },
  "language_info": {
   "codemirror_mode": {
    "name": "ipython",
    "version": 3
   },
   "file_extension": ".py",
   "mimetype": "text/x-python",
   "name": "python",
   "nbconvert_exporter": "python",
   "pygments_lexer": "ipython3",
   "version": "3.11.3"
  }
 },
 "nbformat": 4,
 "nbformat_minor": 5
}
