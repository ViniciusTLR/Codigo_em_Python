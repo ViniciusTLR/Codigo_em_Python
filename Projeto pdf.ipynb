{
 "cells": [
  {
   "cell_type": "markdown",
   "id": "d0767c06",
   "metadata": {},
   "source": [
    "# Projeto"
   ]
  },
  {
   "cell_type": "markdown",
   "id": "775a6abe",
   "metadata": {},
   "source": [
    "## Emitir PDF automático com orçamento para empresa"
   ]
  },
  {
   "cell_type": "markdown",
   "id": "b00d9fd9",
   "metadata": {},
   "source": [
    "### Calculando o valor total estimado"
   ]
  },
  {
   "cell_type": "code",
   "execution_count": 3,
   "id": "928a027f",
   "metadata": {},
   "outputs": [
    {
     "name": "stdout",
     "output_type": "stream",
     "text": [
      "Digite a descrição do projeto: desenvolver um software\n",
      "Digite o total de horas estimadas: 60\n",
      "Digite o valor da hora trabalhada: 120\n",
      "Digite o prazo estimado para entrega: 3 meses\n"
     ]
    }
   ],
   "source": [
    "projeto = input(\"Digite a descrição do projeto: \")\n",
    "horas_estimadas = input(\"Digite o total de horas estimadas: \")\n",
    "valor_hora = input(\"Digite o valor da hora trabalhada: \")\n",
    "prazo_estimado = input(\"Digite o prazo estimado para entrega: \")"
   ]
  },
  {
   "cell_type": "code",
   "execution_count": 6,
   "id": "ca713bb0",
   "metadata": {},
   "outputs": [
    {
     "name": "stdout",
     "output_type": "stream",
     "text": [
      "7200\n"
     ]
    }
   ],
   "source": [
    "valor_total_estimado = int(horas_estimadas) * int(valor_hora)\n",
    "print(valor_total_estimado)"
   ]
  },
  {
   "cell_type": "markdown",
   "id": "7ae91ca3",
   "metadata": {},
   "source": [
    "### Bibilioteca fpdf"
   ]
  },
  {
   "cell_type": "code",
   "execution_count": 9,
   "id": "6338a43c",
   "metadata": {},
   "outputs": [
    {
     "name": "stdout",
     "output_type": "stream",
     "text": [
      "Requirement already satisfied: fpdf in d:\\cursopython\\anaconda3\\lib\\site-packages (1.7.2)\n"
     ]
    }
   ],
   "source": [
    "# instalando a biblioteca\n",
    "!pip install fpdf"
   ]
  },
  {
   "cell_type": "code",
   "execution_count": 10,
   "id": "1425e824",
   "metadata": {},
   "outputs": [],
   "source": [
    "# importando a biblioteca\n",
    "from fpdf import FPDF"
   ]
  },
  {
   "cell_type": "markdown",
   "id": "d2e9d827",
   "metadata": {},
   "source": [
    "### Criando um arquivo pdf"
   ]
  },
  {
   "cell_type": "code",
   "execution_count": 20,
   "id": "3d466742",
   "metadata": {},
   "outputs": [],
   "source": [
    "pdf = FPDF()\n",
    "pdf.add_page()\n",
    "pdf.set_font(\"Arial\")"
   ]
  },
  {
   "cell_type": "markdown",
   "id": "6919b057",
   "metadata": {},
   "source": [
    "### Inserindo dados no pdf"
   ]
  },
  {
   "cell_type": "code",
   "execution_count": 23,
   "id": "c5ee97b9",
   "metadata": {},
   "outputs": [],
   "source": [
    "# Utilizando um template\n",
    "pdf.image(\"template.png\", x = 0, y = 0)\n",
    "\n",
    "# Inserindo os dados do projeto\n",
    "pdf.text(115, 145, projeto)\n",
    "pdf.text(115, 160, horas_estimadas)\n",
    "pdf.text(115, 175, valor_hora)\n",
    "pdf.text(115, 190, prazo_estimado)\n",
    "pdf.text(115, 205, str(valor_total_estimado))"
   ]
  },
  {
   "cell_type": "markdown",
   "id": "d65af29f",
   "metadata": {},
   "source": [
    "### Salvando o arquivo"
   ]
  },
  {
   "cell_type": "code",
   "execution_count": 24,
   "id": "eef93f99",
   "metadata": {},
   "outputs": [
    {
     "name": "stdout",
     "output_type": "stream",
     "text": [
      "Orçamento gerado com sucesso!\n"
     ]
    }
   ],
   "source": [
    "pdf.output(\"Orçamento.pdf\")\n",
    "print(\"Orçamento gerado com sucesso!\")"
   ]
  },
  {
   "cell_type": "code",
   "execution_count": null,
   "id": "e78f3145",
   "metadata": {},
   "outputs": [],
   "source": []
  }
 ],
 "metadata": {
  "kernelspec": {
   "display_name": "Python 3 (ipykernel)",
   "language": "python",
   "name": "python3"
  },
  "language_info": {
   "codemirror_mode": {
    "name": "ipython",
    "version": 3
   },
   "file_extension": ".py",
   "mimetype": "text/x-python",
   "name": "python",
   "nbconvert_exporter": "python",
   "pygments_lexer": "ipython3",
   "version": "3.11.3"
  }
 },
 "nbformat": 4,
 "nbformat_minor": 5
}
